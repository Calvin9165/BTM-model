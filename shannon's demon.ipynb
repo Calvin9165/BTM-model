{
 "cells": [
  {
   "cell_type": "code",
   "execution_count": 5,
   "metadata": {},
   "outputs": [
    {
     "name": "stdout",
     "output_type": "stream",
     "text": [
      "Optimization terminated successfully.\n",
      "asset weights:  [-2.          1.43427915  0.5139959   1.05172495]\n",
      "mean:  8.78%, std: 24.07%\n"
     ]
    }
   ],
   "source": [
    "import scipy.optimize\n",
    "import numpy as np\n",
    "\n",
    "# returns in excess of risk free rate\n",
    "asset_returns = np.array([\n",
    "    .005,    # cash. 0.5% return per year (assumed borrow costs)\n",
    "    .05,     # stocks, 5% per year\n",
    "    .02,     # long term bonds. 2% per year.\n",
    "    .015,    # total bond market\n",
    "])\n",
    "\n",
    "# volatility in excess of risk free rate\n",
    "asset_volatility = np.array([\n",
    "    .0,     # cash, no volatility\n",
    "    .16,    # stocks, 16% volatility\n",
    "    .10,    # long term bonds, 10% volatility\n",
    "    .03,    # total bond market, 3% volatility\n",
    "])\n",
    "\n",
    "# correlations\n",
    "stock_ltt_corr = 0\n",
    "stock_tbm_corr = 0\n",
    "ltt_tbm_corr = .5\n",
    "asset_correlations = np.array([\n",
    "    [1,              0,              0,              0],    # correlations with cash all zero\n",
    "    [0,              1,              stock_ltt_corr, stock_tbm_corr],\n",
    "    [0,              stock_ltt_corr, 1,              ltt_tbm_corr],\n",
    "    [0,              stock_tbm_corr, ltt_tbm_corr,   1],\n",
    "])\n",
    "\n",
    "# gamma = 1 maximizes log returns\n",
    "# gamma = 3 probably more realistic for the average investor\n",
    "gamma = 1.0\n",
    "\n",
    "\n",
    "def mean_and_std(asset_weights):\n",
    "    r = np.dot(asset_weights, asset_returns)\n",
    "    std = asset_weights * asset_volatility\n",
    "    std = std.reshape((1, len(std)))\n",
    "    var = np.matmul(np.matmul(std, asset_correlations), std.transpose())\n",
    "    return r, var[0][0]**.5\n",
    "\n",
    "\n",
    "def utility(asset_weights):\n",
    "    mean, std = mean_and_std(asset_weights)\n",
    "    return mean - .5 * gamma * std**2\n",
    "\n",
    "cash_bounds = (-2, 0.5)\n",
    "asset_bounds = (0, np.inf)\n",
    "\n",
    "solution = scipy.optimize.minimize(\n",
    "    lambda x: -utility(x),\n",
    "    x0=np.full_like(asset_returns, .5),\n",
    "    bounds=[cash_bounds] + [asset_bounds] * (len(asset_returns)-1),\n",
    "    constraints=[\n",
    "        {'type': 'eq', 'fun': lambda x: x.sum() - 1},   # constrain sum(weights) == 1\n",
    "    ],\n",
    "    method='SLSQP',\n",
    "    tol=1e-20\n",
    ")\n",
    "\n",
    "print(solution.message)\n",
    "print(\"asset weights: \", solution.x)\n",
    "print(\"mean: {:6.2%}, std: {:6.2%}\".format(*mean_and_std(solution.x)))"
   ]
  },
  {
   "cell_type": "code",
   "execution_count": null,
   "metadata": {},
   "outputs": [],
   "source": []
  }
 ],
 "metadata": {
  "kernelspec": {
   "display_name": "Python 3",
   "language": "python",
   "name": "python3"
  },
  "language_info": {
   "codemirror_mode": {
    "name": "ipython",
    "version": 3
   },
   "file_extension": ".py",
   "mimetype": "text/x-python",
   "name": "python",
   "nbconvert_exporter": "python",
   "pygments_lexer": "ipython3",
   "version": "3.7.6"
  }
 },
 "nbformat": 4,
 "nbformat_minor": 4
}
