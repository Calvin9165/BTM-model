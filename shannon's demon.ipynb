{
 "cells": [
  {
   "cell_type": "code",
   "execution_count": 2,
   "metadata": {},
   "outputs": [
    {
     "name": "stdout",
     "output_type": "stream",
     "text": [
      "probability is set to  0.5\n",
      "Tails = 0, Heads = 1:  [1 0 0 1 0 1 0 0 1 1]\n",
      "Head Count:  5\n",
      "Tail Count:  5\n"
     ]
    }
   ],
   "source": [
    "import pandas as pd\n",
    "import numpy as np\n",
    "\n",
    "\n",
    "import numpy as np\n",
    "def coinFlip(p):    \n",
    "    #perform the binomial distribution (returns 0 or 1)    \n",
    "    result = np.random.binomial(1,p)\n",
    "    #return flip to be added to numpy array    \n",
    "    return result\n",
    "\n",
    "\n",
    "'''Main Area'''\n",
    "#probability of heads vs. tails. This can be changed.\n",
    "probability = .5\n",
    "\n",
    "#num of flips required. This can be changed.\n",
    "n = 10\n",
    "\n",
    "#initiate array\n",
    "fullResults = np.arange(n)\n",
    "\n",
    "#perform desired numbered of flips at required probability set above\n",
    "for i in range(0, n):    \n",
    "    fullResults[i] = coinFlip(probability)    \n",
    "    i+=1\n",
    "    \n",
    "#print results\n",
    "print(\"probability is set to \", probability)\n",
    "print(\"Tails = 0, Heads = 1: \", fullResults)\n",
    "#Total up heads and tails for easy user experience \n",
    "print(\"Head Count: \", np.count_nonzero(fullResults == 1))\n",
    "print(\"Tail Count: \", np.count_nonzero(fullResults == 0))"
   ]
  },
  {
   "cell_type": "code",
   "execution_count": 3,
   "metadata": {},
   "outputs": [
    {
     "name": "stdout",
     "output_type": "stream",
     "text": [
      "Head Count:  5\n"
     ]
    }
   ],
   "source": [
    "print(\"Head Count: \", np.count_nonzero(fullResults == 1))"
   ]
  },
  {
   "cell_type": "code",
   "execution_count": null,
   "metadata": {},
   "outputs": [],
   "source": []
  }
 ],
 "metadata": {
  "kernelspec": {
   "display_name": "Python 3",
   "language": "python",
   "name": "python3"
  },
  "language_info": {
   "codemirror_mode": {
    "name": "ipython",
    "version": 3
   },
   "file_extension": ".py",
   "mimetype": "text/x-python",
   "name": "python",
   "nbconvert_exporter": "python",
   "pygments_lexer": "ipython3",
   "version": "3.7.6"
  }
 },
 "nbformat": 4,
 "nbformat_minor": 4
}
