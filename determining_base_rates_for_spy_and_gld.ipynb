{
 "cells": [
  {
   "cell_type": "code",
   "execution_count": 46,
   "metadata": {},
   "outputs": [],
   "source": [
    "import pandas as pd\n",
    "import numpy as np\n",
    "import matplotlib.pyplot as plt\n",
    "from scipy import stats\n",
    "\n",
    "data = pd.read_csv('spy_tlt_gld.csv')\n",
    "data['Date'] = pd.to_datetime(data['Date'], dayfirst=False)\n",
    "data.set_index('Date', inplace=True)\n",
    "\n",
    "data.drop({'GLD'}, axis=1, inplace=True)\n"
   ]
  },
  {
   "cell_type": "code",
   "execution_count": 47,
   "metadata": {},
   "outputs": [
    {
     "data": {
      "text/html": [
       "<div>\n",
       "<style scoped>\n",
       "    .dataframe tbody tr th:only-of-type {\n",
       "        vertical-align: middle;\n",
       "    }\n",
       "\n",
       "    .dataframe tbody tr th {\n",
       "        vertical-align: top;\n",
       "    }\n",
       "\n",
       "    .dataframe thead th {\n",
       "        text-align: right;\n",
       "    }\n",
       "</style>\n",
       "<table border=\"1\" class=\"dataframe\">\n",
       "  <thead>\n",
       "    <tr style=\"text-align: right;\">\n",
       "      <th></th>\n",
       "      <th>SPY</th>\n",
       "      <th>TLT</th>\n",
       "    </tr>\n",
       "    <tr>\n",
       "      <th>Date</th>\n",
       "      <th></th>\n",
       "      <th></th>\n",
       "    </tr>\n",
       "  </thead>\n",
       "  <tbody>\n",
       "    <tr>\n",
       "      <th>2007-01-03</th>\n",
       "      <td>106.930310</td>\n",
       "      <td>57.971245</td>\n",
       "    </tr>\n",
       "    <tr>\n",
       "      <th>2007-01-04</th>\n",
       "      <td>107.157234</td>\n",
       "      <td>58.322742</td>\n",
       "    </tr>\n",
       "    <tr>\n",
       "      <th>2007-01-05</th>\n",
       "      <td>106.302510</td>\n",
       "      <td>58.075394</td>\n",
       "    </tr>\n",
       "    <tr>\n",
       "      <th>2007-01-08</th>\n",
       "      <td>106.794174</td>\n",
       "      <td>58.173035</td>\n",
       "    </tr>\n",
       "    <tr>\n",
       "      <th>2007-01-09</th>\n",
       "      <td>106.703410</td>\n",
       "      <td>58.173035</td>\n",
       "    </tr>\n",
       "  </tbody>\n",
       "</table>\n",
       "</div>"
      ],
      "text/plain": [
       "                   SPY        TLT\n",
       "Date                             \n",
       "2007-01-03  106.930310  57.971245\n",
       "2007-01-04  107.157234  58.322742\n",
       "2007-01-05  106.302510  58.075394\n",
       "2007-01-08  106.794174  58.173035\n",
       "2007-01-09  106.703410  58.173035"
      ]
     },
     "execution_count": 47,
     "metadata": {},
     "output_type": "execute_result"
    }
   ],
   "source": [
    "data.head()"
   ]
  },
  {
   "cell_type": "code",
   "execution_count": 48,
   "metadata": {},
   "outputs": [],
   "source": [
    "roll_days = 22\n",
    "\n",
    "data_pct = data.pct_change(roll_days)\n",
    "data_pct.dropna(how='any', inplace=True)\n"
   ]
  },
  {
   "cell_type": "code",
   "execution_count": 49,
   "metadata": {},
   "outputs": [
    {
     "data": {
      "text/plain": [
       "<matplotlib.axes._subplots.AxesSubplot at 0x1cd3eff7a08>"
      ]
     },
     "execution_count": 49,
     "metadata": {},
     "output_type": "execute_result"
    },
    {
     "data": {
      "image/png": "[encoded data removed]",
      "text/plain": [
       "<Figure size 432x288 with 1 Axes>"
      ]
     },
     "metadata": {
      "needs_background": "light"
     },
     "output_type": "display_data"
    }
   ],
   "source": [
    "data_pct.plot()"
   ]
  },
  {
   "cell_type": "code",
   "execution_count": 78,
   "metadata": {},
   "outputs": [
    {
     "data": {
      "text/plain": [
       "(0.6670543762721721, 0.3329456237278279)"
      ]
     },
     "execution_count": 78,
     "metadata": {},
     "output_type": "execute_result"
    }
   ],
   "source": [
    "# How often does SPY \"win\" over 1 year timeframe\n",
    "spy_win = data_pct['SPY'][data_pct['SPY'] >= 0]\n",
    "spy_win_freq = len(spy_win) / len(data_pct)\n",
    "\n",
    "# How often does SPY \"lose\" over 1 year timeframe\n",
    "spy_loss = data_pct['SPY'][data_pct['SPY'] < 0]\n",
    "spy_loss_freq = len(spy_loss) / len(data_pct)\n",
    "\n",
    "\n",
    "spy_win_freq, spy_loss_freq"
   ]
  },
  {
   "cell_type": "code",
   "execution_count": 68,
   "metadata": {},
   "outputs": [
    {
     "data": {
      "text/plain": [
       "(0.5644082582145973, 0.4355917417854027)"
      ]
     },
     "execution_count": 68,
     "metadata": {},
     "output_type": "execute_result"
    }
   ],
   "source": [
    "# How often does TLT \"win\" over 1 year timeframe\n",
    "tlt_win = data_pct['TLT'][data_pct['TLT'] >= 0]\n",
    "\n",
    "# How often does TLT \"lose\" over a 1 year timeframe\n",
    "tlt_loss = data_pct['TLT'][data_pct['TLT'] < 0]\n",
    "\n",
    "(len(tlt_win) / len(data_pct)), (len(tlt_loss) / len(data_pct))"
   ]
  },
  {
   "cell_type": "code",
   "execution_count": 80,
   "metadata": {},
   "outputs": [
    {
     "data": {
      "text/plain": [
       "(1.034116886634668, 0.9556288320259089)"
      ]
     },
     "execution_count": 80,
     "metadata": {},
     "output_type": "execute_result"
    }
   ],
   "source": [
    "spy_win_eval = stats.gmean(spy_win + 1)\n",
    "spy_loss_eval = stats.gmean(spy_loss + 1)\n",
    "\n",
    "spy_win_eval, spy_loss_eval"
   ]
  },
  {
   "cell_type": "code",
   "execution_count": 82,
   "metadata": {},
   "outputs": [
    {
     "data": {
      "text/plain": [
       "(0.6898121948066089, 0.31817243753116187)"
      ]
     },
     "execution_count": 82,
     "metadata": {},
     "output_type": "execute_result"
    }
   ],
   "source": [
    "total_win = spy_win_freq * spy_win_eval\n",
    "\n",
    "\n",
    "total_loss = spy_loss_freq * spy_loss_eval\n",
    "\n",
    "total_win, total_loss"
   ]
  },
  {
   "cell_type": "code",
   "execution_count": 84,
   "metadata": {},
   "outputs": [
    {
     "data": {
      "text/plain": [
       "1.0072937182701633"
      ]
     },
     "execution_count": 84,
     "metadata": {},
     "output_type": "execute_result"
    }
   ],
   "source": [
    "spy_eval = stats.gmean(data_pct['SPY'] + 1)\n",
    "\n",
    "spy_eval"
   ]
  },
  {
   "cell_type": "code",
   "execution_count": null,
   "metadata": {},
   "outputs": [],
   "source": []
  }
 ],
 "metadata": {
  "kernelspec": {
   "display_name": "Python 3",
   "language": "python",
   "name": "python3"
  },
  "language_info": {
   "codemirror_mode": {
    "name": "ipython",
    "version": 3
   },
   "file_extension": ".py",
   "mimetype": "text/x-python",
   "name": "python",
   "nbconvert_exporter": "python",
   "pygments_lexer": "ipython3",
   "version": "3.7.6"
  }
 },
 "nbformat": 4,
 "nbformat_minor": 4
}
