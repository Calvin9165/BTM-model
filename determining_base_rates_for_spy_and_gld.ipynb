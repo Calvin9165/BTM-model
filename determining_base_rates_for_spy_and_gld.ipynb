{
 "cells": [
  {
   "cell_type": "code",
   "execution_count": 13,
   "metadata": {},
   "outputs": [],
   "source": [
    "import pandas as pd\n",
    "import numpy as np\n",
    "import matplotlib.pyplot as plt\n",
    "from scipy import stats\n",
    "\n",
    "data = pd.read_csv('spy_tlt_gld.csv')\n",
    "data['Date'] = pd.to_datetime(data['Date'], dayfirst=False)\n",
    "data.set_index('Date', inplace=True)\n",
    "\n",
    "data.drop({'GLD'}, axis=1, inplace=True)\n"
   ]
  },
  {
   "cell_type": "code",
   "execution_count": 14,
   "metadata": {},
   "outputs": [
    {
     "data": {
      "text/html": [
       "<div>\n",
       "<style scoped>\n",
       "    .dataframe tbody tr th:only-of-type {\n",
       "        vertical-align: middle;\n",
       "    }\n",
       "\n",
       "    .dataframe tbody tr th {\n",
       "        vertical-align: top;\n",
       "    }\n",
       "\n",
       "    .dataframe thead th {\n",
       "        text-align: right;\n",
       "    }\n",
       "</style>\n",
       "<table border=\"1\" class=\"dataframe\">\n",
       "  <thead>\n",
       "    <tr style=\"text-align: right;\">\n",
       "      <th></th>\n",
       "      <th>SPY</th>\n",
       "      <th>TLT</th>\n",
       "    </tr>\n",
       "    <tr>\n",
       "      <th>Date</th>\n",
       "      <th></th>\n",
       "      <th></th>\n",
       "    </tr>\n",
       "  </thead>\n",
       "  <tbody>\n",
       "    <tr>\n",
       "      <th>2007-01-03</th>\n",
       "      <td>106.930310</td>\n",
       "      <td>57.971245</td>\n",
       "    </tr>\n",
       "    <tr>\n",
       "      <th>2007-01-04</th>\n",
       "      <td>107.157234</td>\n",
       "      <td>58.322742</td>\n",
       "    </tr>\n",
       "    <tr>\n",
       "      <th>2007-01-05</th>\n",
       "      <td>106.302510</td>\n",
       "      <td>58.075394</td>\n",
       "    </tr>\n",
       "    <tr>\n",
       "      <th>2007-01-08</th>\n",
       "      <td>106.794174</td>\n",
       "      <td>58.173035</td>\n",
       "    </tr>\n",
       "    <tr>\n",
       "      <th>2007-01-09</th>\n",
       "      <td>106.703410</td>\n",
       "      <td>58.173035</td>\n",
       "    </tr>\n",
       "  </tbody>\n",
       "</table>\n",
       "</div>"
      ],
      "text/plain": [
       "                   SPY        TLT\n",
       "Date                             \n",
       "2007-01-03  106.930310  57.971245\n",
       "2007-01-04  107.157234  58.322742\n",
       "2007-01-05  106.302510  58.075394\n",
       "2007-01-08  106.794174  58.173035\n",
       "2007-01-09  106.703410  58.173035"
      ]
     },
     "execution_count": 14,
     "metadata": {},
     "output_type": "execute_result"
    }
   ],
   "source": [
    "data.head()"
   ]
  },
  {
   "cell_type": "code",
   "execution_count": 15,
   "metadata": {},
   "outputs": [],
   "source": [
    "roll_days = 1\n",
    "\n",
    "data_pct = data.pct_change(roll_days)\n",
    "data_pct.dropna(how='any', inplace=True)\n"
   ]
  },
  {
   "cell_type": "code",
   "execution_count": 16,
   "metadata": {},
   "outputs": [
    {
     "data": {
      "text/plain": [
       "<matplotlib.axes._subplots.AxesSubplot at 0xb7687c8>"
      ]
     },
     "execution_count": 16,
     "metadata": {},
     "output_type": "execute_result"
    },
    {
     "data": {
      "image/png": "[encoded data removed]",
      "text/plain": [
       "<Figure size 432x288 with 1 Axes>"
      ]
     },
     "metadata": {
      "needs_background": "light"
     },
     "output_type": "display_data"
    }
   ],
   "source": [
    "data_pct.plot()"
   ]
  },
  {
   "cell_type": "markdown",
   "metadata": {},
   "source": [
    "### How Often does SPY \"Win\" or \"Lose\" over a roll_days period"
   ]
  },
  {
   "cell_type": "code",
   "execution_count": 17,
   "metadata": {},
   "outputs": [
    {
     "data": {
      "text/plain": [
       "(0.5566473988439307, 0.44335260115606934)"
      ]
     },
     "execution_count": 17,
     "metadata": {},
     "output_type": "execute_result"
    }
   ],
   "source": [
    "# How often does SPY \"win\" over 1 month timeframe\n",
    "spy_win = data_pct['SPY'][data_pct['SPY'] >= 0]\n",
    "spy_win_freq = len(spy_win) / len(data_pct)\n",
    "\n",
    "# How often does SPY \"lose\" over 1 month timeframe\n",
    "spy_loss = data_pct['SPY'][data_pct['SPY'] < 0]\n",
    "spy_loss_freq = len(spy_loss) / len(data_pct)\n",
    "\n",
    "spy_win_freq, spy_loss_freq"
   ]
  },
  {
   "cell_type": "markdown",
   "metadata": {},
   "source": [
    "### When SPY \"Wins\", how much does it \"Win\". Same for Losses"
   ]
  },
  {
   "cell_type": "code",
   "execution_count": 18,
   "metadata": {},
   "outputs": [
    {
     "data": {
      "text/plain": [
       "(1.0076110726633816, 0.9912627756638627)"
      ]
     },
     "execution_count": 18,
     "metadata": {},
     "output_type": "execute_result"
    }
   ],
   "source": [
    "# When SPY \"wins\" we make (spy_win_eval - 1)%\n",
    "spy_win_eval = stats.gmean(spy_win + 1)\n",
    "\n",
    "# When SPY \"loses\" we make (spy_loss_eval - 1)% \n",
    "spy_loss_eval = stats.gmean(spy_loss + 1)\n",
    "\n",
    "spy_win_eval, spy_loss_eval"
   ]
  },
  {
   "cell_type": "markdown",
   "metadata": {},
   "source": [
    "### Standard Deviation of Returns"
   ]
  },
  {
   "cell_type": "code",
   "execution_count": null,
   "metadata": {},
   "outputs": [],
   "source": []
  },
  {
   "cell_type": "markdown",
   "metadata": {},
   "source": [
    "### How Often does TLT \"Win\" or \"Lose\" over a roll_days period"
   ]
  },
  {
   "cell_type": "code",
   "execution_count": 19,
   "metadata": {},
   "outputs": [
    {
     "data": {
      "text/plain": [
       "(0.5341040462427745, 0.4658959537572254)"
      ]
     },
     "execution_count": 19,
     "metadata": {},
     "output_type": "execute_result"
    }
   ],
   "source": [
    "# How often does TLT \"win\" over 1 month timeframe\n",
    "tlt_win = data_pct['TLT'][data_pct['TLT'] >= 0]\n",
    "\n",
    "# How often does TLT \"lose\" over a 1 month timeframe\n",
    "tlt_loss = data_pct['TLT'][data_pct['TLT'] < 0]\n",
    "\n",
    "(len(tlt_win) / len(data_pct)), (len(tlt_loss) / len(data_pct))"
   ]
  },
  {
   "cell_type": "markdown",
   "metadata": {},
   "source": [
    "### When TLT \"Wins\", how much does it \"Win\". Same for Losses"
   ]
  },
  {
   "cell_type": "code",
   "execution_count": 20,
   "metadata": {},
   "outputs": [
    {
     "data": {
      "text/plain": [
       "(1.006803956807619, 0.9928933816710703)"
      ]
     },
     "execution_count": 20,
     "metadata": {},
     "output_type": "execute_result"
    }
   ],
   "source": [
    "# When TLT \"wins\" we make (tlt_win_eval - 1)%\n",
    "tlt_win_eval = stats.gmean(tlt_win + 1)\n",
    "\n",
    "# When TLT \"loses\" we make (tlt_loss_eval - 1)% \n",
    "tlt_loss_eval = stats.gmean(tlt_loss + 1)\n",
    "\n",
    "tlt_win_eval, tlt_loss_eval"
   ]
  },
  {
   "cell_type": "markdown",
   "metadata": {},
   "source": [
    "### What is the expected roll_days value of holding SPY & TLT (individually)"
   ]
  },
  {
   "cell_type": "code",
   "execution_count": 21,
   "metadata": {},
   "outputs": [
    {
     "data": {
      "text/plain": [
       "(1.0003300038051282, 1.0002989929113209)"
      ]
     },
     "execution_count": 21,
     "metadata": {},
     "output_type": "execute_result"
    }
   ],
   "source": [
    "spy_total_eval = stats.gmean(data_pct['SPY'] + 1)\n",
    "tlt_total_eval = stats.gmean(data_pct['TLT'] + 1)\n",
    "\n",
    "spy_total_eval, tlt_total_eval"
   ]
  },
  {
   "cell_type": "markdown",
   "metadata": {},
   "source": [
    "### How many of the winning months for SPY Overlap with the winning months for TLT"
   ]
  },
  {
   "cell_type": "code",
   "execution_count": 22,
   "metadata": {},
   "outputs": [
    {
     "data": {
      "text/plain": [
       "(0.326878612716763, 0.3043352601156069)"
      ]
     },
     "execution_count": 22,
     "metadata": {},
     "output_type": "execute_result"
    }
   ],
   "source": [
    "# stocks and bonds both up\n",
    "both_win = len(data_pct.loc[(data_pct['SPY'] >=0) & (data_pct['TLT'] >=0)]) / len(data_pct)\n",
    "\n",
    "# stocks and bonds both down\n",
    "both_lose = len(data_pct.loc[(data_pct['SPY'] < 0) & (data_pct['TLT'] < 0)]) / len(data_pct)\n",
    "\n",
    "# stocks up, bonds down\n",
    "su_bd = len(data_pct.loc[(data_pct['SPY'] >= 0) & (data_pct['TLT'] < 0)]) / len(data_pct)\n",
    "\n",
    "# stocks down, bonds up\n",
    "sd_bu = len(data_pct.loc[(data_pct['SPY'] < 0) & (data_pct['TLT'] >= 0)]) / len(data_pct)\n",
    "\n",
    "# stocks and bonds move the opposite direction\n",
    "different = 1 - (both_win + both_lose)\n",
    "\n",
    "both_win, both_lose, different\n",
    "su_bd, sd_bu"
   ]
  },
  {
   "cell_type": "markdown",
   "metadata": {},
   "source": [
    "### Plotting the Correlation"
   ]
  },
  {
   "cell_type": "code",
   "execution_count": 23,
   "metadata": {},
   "outputs": [],
   "source": [
    "# short_corr = data_pct['SPY'].rolling(roll_days).corr(data_pct['TLT'])\n",
    "# med_corr = data_pct['SPY'].rolling(roll_days*3).corr(data_pct['TLT'])\n",
    "# base_corr = data_pct['SPY'].rolling(252).corr(data_pct['TLT'])"
   ]
  },
  {
   "cell_type": "code",
   "execution_count": 24,
   "metadata": {},
   "outputs": [],
   "source": [
    "# short_corr.plot()\n",
    "# med_corr.plot()\n",
    "# base_corr.plot()"
   ]
  },
  {
   "cell_type": "code",
   "execution_count": null,
   "metadata": {},
   "outputs": [],
   "source": []
  }
 ],
 "metadata": {
  "kernelspec": {
   "display_name": "Python 3",
   "language": "python",
   "name": "python3"
  },
  "language_info": {
   "codemirror_mode": {
    "name": "ipython",
    "version": 3
   },
   "file_extension": ".py",
   "mimetype": "text/x-python",
   "name": "python",
   "nbconvert_exporter": "python",
   "pygments_lexer": "ipython3",
   "version": "3.7.6"
  }
 },
 "nbformat": 4,
 "nbformat_minor": 4
}
